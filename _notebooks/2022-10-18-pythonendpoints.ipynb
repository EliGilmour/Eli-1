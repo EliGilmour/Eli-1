{
 "cells": [
  {
   "cell_type": "code",
   "execution_count": 1,
   "metadata": {},
   "outputs": [
    {
     "ename": "NameError",
     "evalue": "name 'requests' is not defined",
     "output_type": "error",
     "traceback": [
      "\u001b[0;31m---------------------------------------------------------------------------\u001b[0m",
      "\u001b[0;31mNameError\u001b[0m                                 Traceback (most recent call last)",
      "\u001b[1;32m/home/eli/vscode/Eli-1/_notebooks/2022-10-18-pythonendpoints.ipynb Cell 1\u001b[0m in \u001b[0;36m<cell line: 7>\u001b[0;34m()\u001b[0m\n\u001b[1;32m      <a href='vscode-notebook-cell://wsl%2Bubuntu/home/eli/vscode/Eli-1/_notebooks/2022-10-18-pythonendpoints.ipynb#W0sdnNjb2RlLXJlbW90ZQ%3D%3D?line=3'>4</a>\u001b[0m responses \u001b[39m=\u001b[39m []  \u001b[39m# responses list\u001b[39;00m\n\u001b[1;32m      <a href='vscode-notebook-cell://wsl%2Bubuntu/home/eli/vscode/Eli-1/_notebooks/2022-10-18-pythonendpoints.ipynb#W0sdnNjb2RlLXJlbW90ZQ%3D%3D?line=5'>6</a>\u001b[0m \u001b[39m# Get the count of jokes on server\u001b[39;00m\n\u001b[0;32m----> <a href='vscode-notebook-cell://wsl%2Bubuntu/home/eli/vscode/Eli-1/_notebooks/2022-10-18-pythonendpoints.ipynb#W0sdnNjb2RlLXJlbW90ZQ%3D%3D?line=6'>7</a>\u001b[0m count_response \u001b[39m=\u001b[39m requests\u001b[39m.\u001b[39mget(url\u001b[39m+\u001b[39m\u001b[39m\"\u001b[39m\u001b[39mcount\u001b[39m\u001b[39m\"\u001b[39m)\n\u001b[1;32m      <a href='vscode-notebook-cell://wsl%2Bubuntu/home/eli/vscode/Eli-1/_notebooks/2022-10-18-pythonendpoints.ipynb#W0sdnNjb2RlLXJlbW90ZQ%3D%3D?line=7'>8</a>\u001b[0m count_json \u001b[39m=\u001b[39m count_response\u001b[39m.\u001b[39mjson()\n\u001b[1;32m      <a href='vscode-notebook-cell://wsl%2Bubuntu/home/eli/vscode/Eli-1/_notebooks/2022-10-18-pythonendpoints.ipynb#W0sdnNjb2RlLXJlbW90ZQ%3D%3D?line=8'>9</a>\u001b[0m count \u001b[39m=\u001b[39m count_json[\u001b[39m'\u001b[39m\u001b[39mcount\u001b[39m\u001b[39m'\u001b[39m]\n",
      "\u001b[0;31mNameError\u001b[0m: name 'requests' is not defined"
     ]
    }
   ],
   "source": [
    "# server = \"http://127.0.0.1:5000/\" # run local\n",
    "server = 'https://flask.nighthawkcodingsociety.com/' # run from web server\n",
    "url = server + \"api/jokes/\"\n",
    "responses = []  # responses list\n",
    "\n",
    "# Get the count of jokes on server\n",
    "count_response = requests.get(url+\"count\")\n",
    "count_json = count_response.json()\n",
    "count = count_json['count']\n",
    "\n",
    "# Update likes/dislikes test sequence using random joke\n",
    "num = str(random.randint(0, count-1)) # test a random record\n",
    "responses.append(\n",
    "    requests.get(url+num)  # Get/read joke by id\n",
    "    ) \n",
    "responses.append(\n",
    "    requests.put(url+\"like/\"+num) # Put/add to like count\n",
    "    ) \n",
    "responses.append(\n",
    "    requests.put(url+\"jeer/\"+num) # Put/add to jeer count\n",
    "    ) \n",
    "\n",
    "# Get a random joke\n",
    "responses.append(\n",
    "    requests.get(url+\"random\")  # Get/read a random joke\n",
    "    ) \n",
    "\n",
    "# Cycle through and print responses\n",
    "for response in responses:\n",
    "    print(response)\n",
    "    try:\n",
    "        print(response.json())\n",
    "    except:\n",
    "        print(\"data error\")"
   ]
  }
 ],
 "metadata": {
  "kernelspec": {
   "display_name": "Python 3.9.12 ('base')",
   "language": "python",
   "name": "python3"
  },
  "language_info": {
   "codemirror_mode": {
    "name": "ipython",
    "version": 3
   },
   "file_extension": ".py",
   "mimetype": "text/x-python",
   "name": "python",
   "nbconvert_exporter": "python",
   "pygments_lexer": "ipython3",
   "version": "3.9.12"
  },
  "orig_nbformat": 4,
  "vscode": {
   "interpreter": {
    "hash": "b21c0b9d110a5a3043a375d760ca16faf426bffca7e8cbf746b0d228ab037b0a"
   }
  }
 },
 "nbformat": 4,
 "nbformat_minor": 2
}
