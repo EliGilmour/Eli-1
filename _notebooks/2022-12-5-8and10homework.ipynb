{
 "cells": [
  {
   "cell_type": "code",
   "execution_count": 2,
   "metadata": {},
   "outputs": [
    {
     "ename": "SyntaxError",
     "evalue": "illegal target for annotation (469657416.py, line 2)",
     "output_type": "error",
     "traceback": [
      "\u001b[0;36m  Input \u001b[0;32mIn [2]\u001b[0;36m\u001b[0m\n\u001b[0;31m    - toc: true\u001b[0m\n\u001b[0m    ^\u001b[0m\n\u001b[0;31mSyntaxError\u001b[0m\u001b[0;31m:\u001b[0m illegal target for annotation\n"
     ]
    }
   ],
   "source": [
    "# Unit section 8 and 10 Homework\n",
    "- toc: true\n",
    "- categories: [Javascript,markdown]\n",
    "- type: pbl"
   ]
  },
  {
   "cell_type": "markdown",
   "metadata": {},
   "source": [
    "# Excercise 1"
   ]
  },
  {
   "cell_type": "code",
   "execution_count": null,
   "metadata": {},
   "outputs": [
    {
     "name": "stdout",
     "output_type": "stream",
     "text": [
      "[5, 4, 3, 2, 1]\n"
     ]
    }
   ],
   "source": [
    "\n",
    "list = [1, 2, 3, 4, 5]\n",
    "reversed = []\n",
    "for value in list:\n",
    "    reversed = [value] + reversed\n",
    "print(reversed)"
   ]
  },
  {
   "cell_type": "markdown",
   "metadata": {},
   "source": [
    "# Excercise 2"
   ]
  },
  {
   "cell_type": "code",
   "execution_count": null,
   "metadata": {},
   "outputs": [
    {
     "name": "stdout",
     "output_type": "stream",
     "text": [
      "[0, 1, 2, 3, 4, 5, 6, 7, 8, 9]\n"
     ]
    }
   ],
   "source": [
    "list = [9, 8, 4, 3, 5, 2, 6, 7, 1, 0]\n",
    "\n",
    "def bubbleSort(list):\n",
    "    n = len(list)\n",
    "\n",
    "    for i in range(n):\n",
    "        for j in range(0, len(list) - i - 1):\n",
    "            if list[j] > list[j + 1]:\n",
    "\n",
    "                value = list[j]\n",
    "                list[j] = list[j + 1]\n",
    "                list[j + 1] = value\n",
    "\n",
    "bubbleSort(list)\n",
    "print(list)"
   ]
  },
  {
   "cell_type": "markdown",
   "metadata": {},
   "source": [
    "I learned how to create a bubble sort list and learned what each command does and how to write it. Also how to create a reversed list and print."
   ]
  },
  {
   "cell_type": "markdown",
   "metadata": {},
   "source": [
    "# Quiz Corrections "
   ]
  },
  {
   "cell_type": "markdown",
   "metadata": {},
   "source": [
    "![photo]({{site.baseurl}}/images/question huh.png)"
   ]
  },
  {
   "cell_type": "markdown",
   "metadata": {},
   "source": [
    "I got this question wrong because I thought that the position of an element in a list, starts at 1 but it starts at zero."
   ]
  }
 ],
 "metadata": {
  "kernelspec": {
   "display_name": "Python 3.9.12 ('base')",
   "language": "python",
   "name": "python3"
  },
  "language_info": {
   "codemirror_mode": {
    "name": "ipython",
    "version": 3
   },
   "file_extension": ".py",
   "mimetype": "text/x-python",
   "name": "python",
   "nbconvert_exporter": "python",
   "pygments_lexer": "ipython3",
   "version": "3.9.12 (main, Apr  5 2022, 06:56:58) \n[GCC 7.5.0]"
  },
  "orig_nbformat": 4,
  "vscode": {
   "interpreter": {
    "hash": "b21c0b9d110a5a3043a375d760ca16faf426bffca7e8cbf746b0d228ab037b0a"
   }
  }
 },
 "nbformat": 4,
 "nbformat_minor": 2
}
