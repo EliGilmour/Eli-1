{
 "cells": [
  {
   "cell_type": "markdown",
   "metadata": {},
   "source": [
    "# Unit section 3-4 Homework\n",
    "- toc: true\n",
    "- categories: [Javascript,markdown]\n",
    "- type: pbl\n",
    "- week: 7"
   ]
  },
  {
   "cell_type": "code",
   "execution_count": 2,
   "metadata": {},
   "outputs": [
    {
     "name": "stdout",
     "output_type": "stream",
     "text": [
      "[0, 2, 4, 6, 8, 10]\n"
     ]
    }
   ],
   "source": [
    "numbers = [0,1,2,3,4,5,6,7,8,9,10]#sequencing\n",
    "evens = []#sequencing\n",
    "\n",
    "for i in numbers:#selection\n",
    "    if (numbers[i] % 2 == 0):#iteration\n",
    "        evens.append(numbers[i])\n",
    "\n",
    "print(evens)"
   ]
  },
  {
   "cell_type": "code",
   "execution_count": 8,
   "metadata": {},
   "outputs": [
    {
     "name": "stdout",
     "output_type": "stream",
     "text": [
      "[0, 1, 2, 3, 4, 5, 6, 7, 8, 9, 10]\n"
     ]
    }
   ],
   "source": [
    "numbers = [0,1,2,3,4,5,6,7,8,9,10]#sequencing\n",
    "odd = []#sequencing\n",
    "\n",
    "for i in numbers:\n",
    "    if (numbers[i] % 1 == 0):#selection\n",
    "        odd.append(numbers[i])#iteration\n",
    "\n",
    "print(odd)"
   ]
  },
  {
   "cell_type": "markdown",
   "metadata": {},
   "source": [
    "given the following code segment below:\n",
    "a ⟵ 7\n",
    "\n",
    "b ⟵ 1\n",
    "\n",
    "c ⟵ 3\n",
    "\n",
    "d ⟵ 4\n",
    "\n",
    "a ⟵ b\n",
    "\n",
    "b ⟵ c + d\n",
    "\n",
    "d ⟵ b\n",
    "\n",
    "find the value for a, b, c, d\n",
    "\n",
    "Answer = a = 1, b = 7, c = 3, d = 7\n",
    "\n",
    "A = 1 because even though a =7 at the start, it turns into 1 when b = a\n",
    "b = 7 because b starts off at 1 and then b turns into a which is 7\n",
    "c = 3 because 3 = c\n",
    "d = c + d =7"
   ]
  },
  {
   "cell_type": "markdown",
   "metadata": {},
   "source": [
    "consider the following code segment:\n",
    "hot ⟵ true\n",
    "\n",
    "cold ⟵ false\n",
    "\n",
    "cold ⟵ hot\n",
    "\n",
    "hot ⟵ cold\n",
    "\n",
    "what are the values of hot and cold after executing the code segment?\n",
    "\n",
    "the value of hot is true, the value of cold is true\n",
    "the value of hot is false, the value of cold is true\n",
    "the value of hot is true, the value of cold is false\n",
    "the value of hot is false, the value of cold is false\n",
    "\n",
    "Answer =  the value of hot is true, the value of cold is true"
   ]
  },
  {
   "cell_type": "markdown",
   "metadata": {},
   "source": [
    "5. num1 = 12\n",
    "   num2 = 18\n",
    "   num3 = 2\n",
    "   num1 = num2 + num3\n",
    "   num3 = num1 + num2\n",
    "\n",
    "   What is value of num1 and num3?\n",
    "\n",
    "   Num1 = 20\n",
    "   Num3 = 30"
   ]
  },
  {
   "cell_type": "markdown",
   "metadata": {},
   "source": [
    "   num1 = 4\n",
    "   num2 = 1\n",
    "   num3 = 28\n",
    "   num2 = num1 + num3\n",
    "   num1 = num3 + num2\n",
    "\n",
    "   What is value of num1 and num3?\n",
    "\n",
    "   Num2 = 32\n",
    "   Num1 = 29"
   ]
  },
  {
   "cell_type": "markdown",
   "metadata": {},
   "source": [
    "Test 1\n",
    "\n",
    "firstName <- \"Bob\" lastName <- \"Smith\" var <- substring(firstName, 1, 1) name <- concat(lastName, var) email <- concat(name, \"@gmail.com\") DISPLAY(email)\n",
    "\n",
    "What would the result be?\n",
    "\n",
    "SmithB@gmail.com\n"
   ]
  },
  {
   "cell_type": "markdown",
   "metadata": {},
   "source": [
    "Test 2\n",
    "\n",
    "word1 <- \"computer\" word2 <- \"textbooks\" length1 <- len(word1)/2 length2 <- len(word2)/3 first <- substring(word1, 2, len1) second <- substring(word2, len2+3, len2) newWord <- concat(first, second) DISPLAY(newWord)\n",
    "\n",
    "ompuook"
   ]
  }
 ],
 "metadata": {
  "kernelspec": {
   "display_name": "Python 3.9.12 ('base')",
   "language": "python",
   "name": "python3"
  },
  "language_info": {
   "codemirror_mode": {
    "name": "ipython",
    "version": 3
   },
   "file_extension": ".py",
   "mimetype": "text/x-python",
   "name": "python",
   "nbconvert_exporter": "python",
   "pygments_lexer": "ipython3",
   "version": "3.9.12 (main, Apr  5 2022, 06:56:58) \n[GCC 7.5.0]"
  },
  "orig_nbformat": 4,
  "vscode": {
   "interpreter": {
    "hash": "b21c0b9d110a5a3043a375d760ca16faf426bffca7e8cbf746b0d228ab037b0a"
   }
  }
 },
 "nbformat": 4,
 "nbformat_minor": 2
}
