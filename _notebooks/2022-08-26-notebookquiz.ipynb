{
 "cells": [
  {
   "cell_type": "markdown",
   "metadata": {},
   "source": [
    "# The rules of football quiz\n",
    "## test your football knowledge here\n",
    "\n",
    "- title: The rules of football\n",
    "- toc: true\n",
    "- Badges: true\n",
    "- comments: false\n",
    "- author: Eli gilmour\n",
    "- Categories: [fastpages, juypter]"
   ]
  },
  {
   "cell_type": "code",
   "execution_count": 30,
   "metadata": {},
   "outputs": [
    {
     "name": "stdout",
     "output_type": "stream",
     "text": [
      "Question: how many players are on the offense on the field at a time?\n",
      "Answer: 11\n"
     ]
    }
   ],
   "source": [
    "def question_and_answer(prompt):\n",
    "    print(\"Question: \" + prompt)\n",
    "    msg = input(\"11\")\n",
    "    print(\"Answer: \" + msg)\n",
    "\n",
    "question_and_answer(\"how many players are on the offense on the field at a time?\")"
   ]
  },
  {
   "cell_type": "code",
   "execution_count": 31,
   "metadata": {},
   "outputs": [
    {
     "name": "stdout",
     "output_type": "stream",
     "text": [
      "Question: how many long is the football field in yards?\n",
      "Answer: 120\n"
     ]
    }
   ],
   "source": [
    "def question_and_answer(prompt):\n",
    "    print(\"Question: \" + prompt)\n",
    "    msg = input(\"120\")\n",
    "    print(\"Answer: \" + msg)\n",
    "\n",
    "question_and_answer(\"how many long is the football field in yards?\")"
   ]
  },
  {
   "cell_type": "code",
   "execution_count": 32,
   "metadata": {},
   "outputs": [
    {
     "name": "stdout",
     "output_type": "stream",
     "text": [
      "Question: How many rads is a first down?\n",
      "Answer: 10 yards\n"
     ]
    }
   ],
   "source": [
    "def question_and_answer(prompt):\n",
    "    print(\"Question: \" + prompt)\n",
    "    msg = input(\"10 yards\")\n",
    "    print(\"Answer: \" + msg)\n",
    "\n",
    "question_and_answer(\"How many rads is a first down?\")"
   ]
  },
  {
   "cell_type": "code",
   "execution_count": null,
   "metadata": {},
   "outputs": [],
   "source": []
  },
  {
   "cell_type": "code",
   "execution_count": 34,
   "metadata": {},
   "outputs": [
    {
     "name": "stdout",
     "output_type": "stream",
     "text": [
      "Question: how many yards is a holding penalty?\n",
      "Answer: 5 yards\n"
     ]
    }
   ],
   "source": [
    "def question_and_answer(prompt):\n",
    "    print(\"Question: \" + prompt)\n",
    "    msg = input(\"5 yards\")\n",
    "    print(\"Answer: \" + msg)\n",
    "\n",
    "question_and_answer(\"how many yards is a holding penalty?\")"
   ]
  }
 ],
 "metadata": {
  "kernelspec": {
   "display_name": "Python 3.8.10 64-bit",
   "language": "python",
   "name": "python3"
  },
  "language_info": {
   "codemirror_mode": {
    "name": "ipython",
    "version": 3
   },
   "file_extension": ".py",
   "mimetype": "text/x-python",
   "name": "python",
   "nbconvert_exporter": "python",
   "pygments_lexer": "ipython3",
   "version": "3.8.10"
  },
  "orig_nbformat": 4,
  "vscode": {
   "interpreter": {
    "hash": "916dbcbb3f70747c44a77c7bcd40155683ae19c65e1c03b4aa3499c5328201f1"
   }
  }
 },
 "nbformat": 4,
 "nbformat_minor": 2
}
