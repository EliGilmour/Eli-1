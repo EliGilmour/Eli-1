{
 "cells": [
  {
   "cell_type": "markdown",
   "metadata": {},
   "source": [
    "# The rules of football quiz\n",
    "## test your football knowledge here\n",
    "\n",
    "- title: The rules of football\n",
    "- toc: true\n",
    "- Badges: true\n",
    "- comments: false\n",
    "- author: Eli gilmour\n",
    "- Categories: [fastpages, juypter]"
   ]
  },
  {
   "cell_type": "code",
   "execution_count": 2,
   "metadata": {},
   "outputs": [
    {
     "name": "stdout",
     "output_type": "stream",
     "text": [
      "Take this quiz about football basic rules.\n",
      "how many players are on offense on the feild at a time\n",
      "11\n",
      "Correct, you have  1  points!\n",
      "how many players are on defense on the feild at a time\n",
      "10\n",
      "Incorrect, the answer was;  11\n",
      "how many yards is the length of a football feild\n",
      "120 yards\n",
      "Correct, you have  2  points!\n",
      "How many yards is the length of the endzone\n",
      "10\n",
      "Incorrect, the answer was;  10 yards\n",
      "You have finished the quiz with  2  out of  4  points!\n"
     ]
    }
   ],
   "source": [
    "question = [\"how many players are on offense on the feild at a time\", \"how many players are on defense on the feild at a time\", \"how many yards is the length of a football feild\", \"How many yards is the length of the endzone\"]\n",
    "answer = [\"11\", \"11\", \"120 yards\", \"10 yards\"]\n",
    "points = 0\n",
    "\n",
    "print(\"Take this quiz about football basic rules.\")\n",
    "\n",
    "for i in range(len(question)):\n",
    "    print(question[i])\n",
    "    response = input()\n",
    "    print(response)\n",
    "\n",
    "    if response == answer[i]:\n",
    "        points += 1\n",
    "        print(\"Correct, you have \", points, \" points!\")\n",
    "    else:\n",
    "        print(\"Incorrect, the answer was; \", answer[i])\n",
    "\n",
    "print(\"You have finished the quiz with \", points, \" out of \", len(question), \" points!\")"
   ]
  }
 ],
 "metadata": {
  "kernelspec": {
   "display_name": "Python 3.8.10 64-bit",
   "language": "python",
   "name": "python3"
  },
  "language_info": {
   "codemirror_mode": {
    "name": "ipython",
    "version": 3
   },
   "file_extension": ".py",
   "mimetype": "text/x-python",
   "name": "python",
   "nbconvert_exporter": "python",
   "pygments_lexer": "ipython3",
   "version": "3.8.10"
  },
  "orig_nbformat": 4,
  "vscode": {
   "interpreter": {
    "hash": "916dbcbb3f70747c44a77c7bcd40155683ae19c65e1c03b4aa3499c5328201f1"
   }
  }
 },
 "nbformat": 4,
 "nbformat_minor": 2
}
