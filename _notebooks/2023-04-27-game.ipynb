{
 "cells": [
  {
   "attachments": {},
   "cell_type": "markdown",
   "metadata": {},
   "source": [
    "#  Sorting Algorithms Notebook Code Runs\n",
    "- toc: true\n",
    "- categories: []\n",
    "- type: pbl\n",
    "- week: 35"
   ]
  },
  {
   "cell_type": "code",
   "execution_count": 14,
   "metadata": {},
   "outputs": [],
   "source": [
    "def mergeSort(arr, key):\n",
    "    if len(arr) > 1:\n",
    "        mid = len(arr) // 2\n",
    "        left_half = arr[:mid]\n",
    "        right_half = arr[mid:]\n",
    "\n",
    "        mergeSort(left_half, key)\n",
    "        mergeSort(right_half, key)\n",
    "\n",
    "        i = j = k = 0\n",
    "\n",
    "        while i < len(left_half) and j < len(right_half):\n",
    "            if left_half[i].get(key) < right_half[j].get(key):\n",
    "                arr[k] = left_half[i]\n",
    "                i += 1\n",
    "            else:\n",
    "                arr[k] = right_half[j]\n",
    "                j += 1\n",
    "            k += 1\n",
    "\n",
    "        while i < len(left_half):\n",
    "            arr[k] = left_half[i]\n",
    "            i += 1\n",
    "            k += 1\n",
    "\n",
    "        while j < len(right_half):\n",
    "            arr[k] = right_half[j]\n",
    "            j += 1\n",
    "            k += 1"
   ]
  },
  {
   "cell_type": "code",
   "execution_count": 6,
   "metadata": {},
   "outputs": [
    {
     "name": "stdout",
     "output_type": "stream",
     "text": [
      "Original List:\n",
      "[{'name': 'Bob', 'age': 25, 'city': 'London'}, {'name': 'Khalid', 'age': 32, 'city': 'New York'}, {'name': 'Eli', 'age': 19, 'city': 'Paris'}, {'name': 'David', 'age': 41, 'city': 'Tokyo'}, {'name': 'Eve', 'age': 28, 'city': 'Berlin'}]\n"
     ]
    }
   ],
   "source": [
    "Eli_list = [\n",
    "    {\"name\": \"Bob\", \"age\": 25, \"city\": \"London\"},\n",
    "    {\"name\": \"Khalid\", \"age\": 32, \"city\": \"New York\"},\n",
    "    {\"name\": \"Eli\", \"age\": 19, \"city\": \"Paris\"},\n",
    "    {\"name\": \"David\", \"age\": 41, \"city\": \"Tokyo\"},\n",
    "    {\"name\": \"Eve\", \"age\": 28, \"city\": \"Berlin\"}\n",
    "]\n",
    "\n",
    "print(\"Original List:\")\n",
    "print(Eli_list)\n"
   ]
  },
  {
   "cell_type": "code",
   "execution_count": 13,
   "metadata": {},
   "outputs": [
    {
     "name": "stdout",
     "output_type": "stream",
     "text": [
      "\n",
      "Bubble Sort:\n",
      "\n",
      "Sorted by 'name':\n",
      "[{'name': 'Bob', 'age': 25, 'city': 'London'}, {'name': 'David', 'age': 41, 'city': 'Tokyo'}, {'name': 'Eli', 'age': 19, 'city': 'Paris'}, {'name': 'Eve', 'age': 28, 'city': 'Berlin'}, {'name': 'Khalid', 'age': 32, 'city': 'New York'}]\n",
      "\n",
      "Sorted by 'age':\n",
      "[{'name': 'Eli', 'age': 19, 'city': 'Paris'}, {'name': 'Bob', 'age': 25, 'city': 'London'}, {'name': 'Eve', 'age': 28, 'city': 'Berlin'}, {'name': 'Khalid', 'age': 32, 'city': 'New York'}, {'name': 'David', 'age': 41, 'city': 'Tokyo'}]\n",
      "\n",
      "Sorted by 'city':\n",
      "[{'name': 'Eve', 'age': 28, 'city': 'Berlin'}, {'name': 'Bob', 'age': 25, 'city': 'London'}, {'name': 'Khalid', 'age': 32, 'city': 'New York'}, {'name': 'Eli', 'age': 19, 'city': 'Paris'}, {'name': 'David', 'age': 41, 'city': 'Tokyo'}]\n",
      "Bubble Sort Time: 0.0010685920715332031\n"
     ]
    }
   ],
   "source": [
    "import time\n",
    "\n",
    "def bubbleSort(arr, key):\n",
    "    n = len(arr)\n",
    "    for i in range(n - 1):\n",
    "        for j in range(0, n - i - 1):\n",
    "            if arr[j][key] > arr[j + 1][key]:\n",
    "                arr[j], arr[j + 1] = arr[j + 1], arr[j]\n",
    "\n",
    "Eli_list = [\n",
    "   {\"name\": \"Bob\", \"age\": 25, \"city\": \"London\"},\n",
    "    {\"name\": \"Khalid\", \"age\": 32, \"city\": \"New York\"},\n",
    "    {\"name\": \"Eli\", \"age\": 19, \"city\": \"Paris\"},\n",
    "    {\"name\": \"David\", \"age\": 41, \"city\": \"Tokyo\"},\n",
    "    {\"name\": \"Eve\", \"age\": 28, \"city\": \"Berlin\"}\n",
    "]\n",
    "\n",
    "print(\"\\nBubble Sort:\")\n",
    "start_time = time.time()\n",
    "for key in Eli_list[0]:\n",
    "    bubbleSort(Eli_list, key)\n",
    "    print(f\"\\nSorted by '{key}':\")\n",
    "    print(Eli_list)\n",
    "end_time = time.time()\n",
    "bubble_sort_time = end_time - start_time\n",
    "print(\"Bubble Sort Time:\", bubble_sort_time)\n"
   ]
  },
  {
   "cell_type": "code",
   "execution_count": 9,
   "metadata": {},
   "outputs": [
    {
     "name": "stdout",
     "output_type": "stream",
     "text": [
      "\n",
      "Merge Sort:\n",
      "\n",
      "Sorted by 'name':\n",
      "[{'name': 'Bob', 'age': 25, 'city': 'London'}, {'name': 'David', 'age': 41, 'city': 'Tokyo'}, {'name': 'Eli', 'age': 19, 'city': 'Paris'}, {'name': 'Eve', 'age': 28, 'city': 'Berlin'}, {'name': 'Khalid', 'age': 32, 'city': 'New York'}]\n",
      "\n",
      "Sorted by 'age':\n",
      "[{'name': 'Eli', 'age': 19, 'city': 'Paris'}, {'name': 'Bob', 'age': 25, 'city': 'London'}, {'name': 'Eve', 'age': 28, 'city': 'Berlin'}, {'name': 'Khalid', 'age': 32, 'city': 'New York'}, {'name': 'David', 'age': 41, 'city': 'Tokyo'}]\n",
      "\n",
      "Sorted by 'city':\n",
      "[{'name': 'Eve', 'age': 28, 'city': 'Berlin'}, {'name': 'Bob', 'age': 25, 'city': 'London'}, {'name': 'Khalid', 'age': 32, 'city': 'New York'}, {'name': 'Eli', 'age': 19, 'city': 'Paris'}, {'name': 'David', 'age': 41, 'city': 'Tokyo'}]\n",
      "Merge Sort Time: 0.000985860824584961\n"
     ]
    }
   ],
   "source": [
    "import time\n",
    "\n",
    "print(\"\\nMerge Sort:\")\n",
    "start_time = time.time()\n",
    "for key in Eli_list[0]:\n",
    "    mergeSort(Eli_list, key)\n",
    "    print(f\"\\nSorted by '{key}':\")\n",
    "    print(Eli_list)\n",
    "end_time = time.time()\n",
    "merge_sort_time = end_time - start_time\n",
    "print(\"Merge Sort Time:\", merge_sort_time)\n"
   ]
  },
  {
   "cell_type": "code",
   "execution_count": 15,
   "metadata": {},
   "outputs": [
    {
     "name": "stdout",
     "output_type": "stream",
     "text": [
      "\n",
      "Sorting Analysis:\n",
      "Number of elements: 5\n",
      "Bubble Sort Comparisons: 10\n",
      "Bubble Sort Swaps: 10\n",
      "Bubble Sort Time: 0.0010685920715332031 seconds\n",
      "Merge Sort Comparisons: 10\n",
      "Merge Sort Swaps: 10\n",
      "Merge Sort Time: 0.000985860824584961 seconds\n"
     ]
    }
   ],
   "source": [
    "print(\"\\nSorting Analysis:\")\n",
    "print(f\"Number of elements: {len(Eli_list)}\")\n",
    "print(f\"Bubble Sort Comparisons: {len(Eli_list) * (len(Eli_list) - 1) // 2}\")\n",
    "print(f\"Bubble Sort Swaps: {len(Eli_list) * (len(Eli_list) - 1) // 2}\")\n",
    "print(f\"Bubble Sort Time: {bubble_sort_time} seconds\")\n",
    "print(f\"Merge Sort Comparisons: {len(Eli_list) * (len(Eli_list) - 1) // 2}\")\n",
    "print(f\"Merge Sort Swaps: {len(Eli_list) * (len(Eli_list) - 1) // 2}\")\n",
    "print(f\"Merge Sort Time: {merge_sort_time} seconds\")"
   ]
  }
 ],
 "metadata": {
  "kernelspec": {
   "display_name": "base",
   "language": "python",
   "name": "python3"
  },
  "language_info": {
   "codemirror_mode": {
    "name": "ipython",
    "version": 3
   },
   "file_extension": ".py",
   "mimetype": "text/x-python",
   "name": "python",
   "nbconvert_exporter": "python",
   "pygments_lexer": "ipython3",
   "version": "3.9.12"
  },
  "orig_nbformat": 4
 },
 "nbformat": 4,
 "nbformat_minor": 2
}
