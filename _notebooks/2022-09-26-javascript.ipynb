{
 "cells": [
  {
   "cell_type": "markdown",
   "metadata": {},
   "source": [
    "# Javascript\n",
    "\n",
    "- toc: true\n",
    "- Badges: true\n",
    "- comments: false\n",
    "- author: Eli gilmour\n",
    "- Categories: [fastpages, javascript]"
   ]
  },
  {
   "cell_type": "code",
   "execution_count": 1,
   "metadata": {},
   "outputs": [
    {
     "name": "stdout",
     "output_type": "stream",
     "text": [
      "whats up everyone\n"
     ]
    }
   ],
   "source": [
    "console.log(\"whats up everyone\");"
   ]
  },
  {
   "cell_type": "code",
   "execution_count": 2,
   "metadata": {},
   "outputs": [
    {
     "name": "stdout",
     "output_type": "stream",
     "text": [
      "whats up everyone!\n"
     ]
    }
   ],
   "source": [
    "var msg = \"whats up everyone!\";\n",
    "console.log(msg);"
   ]
  },
  {
   "cell_type": "code",
   "execution_count": 3,
   "metadata": {},
   "outputs": [
    {
     "name": "stdout",
     "output_type": "stream",
     "text": [
      "whats up everyone!\n"
     ]
    }
   ],
   "source": [
    "function logIt(output) {\n",
    "    console.log(output);\n",
    "}\n",
    "logIt(msg);"
   ]
  },
  {
   "cell_type": "code",
   "execution_count": 7,
   "metadata": {},
   "outputs": [
    {
     "name": "stdout",
     "output_type": "stream",
     "text": [
      "Reuse of logIT\n",
      "Hello, Students!\n",
      "2022\n"
     ]
    }
   ],
   "source": [
    "console.log(\"Reuse of logIT\")\n",
    "logIt(\"Hello, Students!\");\n",
    "logIt(2022)"
   ]
  },
  {
   "cell_type": "code",
   "execution_count": 5,
   "metadata": {},
   "outputs": [
    {
     "name": "stdout",
     "output_type": "stream",
     "text": [
      "Looking at dynamic nature of types in JavaScript\n",
      "string ; hello\n",
      "number ; 2022\n",
      "object ; [ 1, 2, 3 ]\n"
     ]
    }
   ],
   "source": [
    "function logItType(output) {\n",
    "    console.log(typeof output, \";\", output);\n",
    "}\n",
    "console.log(\"Looking at dynamic nature of types in JavaScript\")\n",
    "logItType(\"hello\"); // String\n",
    "logItType(2022);    // Number\n",
    "logItType([1, 2, 3]);  // Object is generic for this Array, which similar to Python List"
   ]
  },
  {
   "cell_type": "code",
   "execution_count": 1,
   "metadata": {},
   "outputs": [
    {
     "name": "stdout",
     "output_type": "stream",
     "text": [
      "object ,  Person { name: 'elijah', Grad: 2024, residence: 'SanDiego', role: '' }\n",
      "string ,  {\"name\":\"elijah\",\"residence\":\"SanDiego\",\"role\":\"\"}\n",
      "object ,  Person {\n",
      "  name: 'elijah',\n",
      "  Grad: 2024,\n",
      "  residence: 'SanDiego',\n",
      "  role: 'Student' }\n",
      "string ,  {\"name\":\"elijah\",\"residence\":\"SanDiego\",\"role\":\"Student\"}\n"
     ]
    }
   ],
   "source": [
    "function PrintType(output) { // function to output data type and data into terminal\n",
    "    console.log(typeof output, \", \", output);\n",
    "}\n",
    "// define a function to hold data for a Person\n",
    "function Person(name, Grad, residence) {\n",
    "    this.name = name;\n",
    "    this.Grad = Grad;\n",
    "    this.residence = residence;\n",
    "    this.role = \"\";\n",
    "}\n",
    "\n",
    "// define a setter for role in Person data\n",
    "Person.prototype.setRole = function(role) {\n",
    "    this.role = role;\n",
    "}\n",
    "\n",
    "// define a JSON conversion \"method\" associated with Person\n",
    "Person.prototype.toJSON = function() {\n",
    "    const obj = {name: this.name, age: this.age, residence: this.residence, role: this.role};\n",
    "    const json = JSON.stringify(obj);\n",
    "    return json;\n",
    "}\n",
    "\n",
    "// make a new Person and assign to variable student\n",
    "var student = new Person(\"elijah\", 2024, \"SanDiego\");  // object type is easy to work with in JavaScript\n",
    "PrintType(student);  // before role\n",
    "PrintType(student.toJSON());\n",
    "\n",
    "// output of Object and JSON/string associated with student\n",
    "student.setRole(\"Student\");   // set the role\n",
    "PrintType(student); \n",
    "PrintType(student.toJSON());"
   ]
  },
  {
   "cell_type": "code",
   "execution_count": 5,
   "metadata": {},
   "outputs": [
    {
     "name": "stdout",
     "output_type": "stream",
     "text": [
      "object ,  [ Person {\n",
      "    name: 'Mr. M',\n",
      "    Grad: '?',\n",
      "    residence: 'San Diego',\n",
      "    role: 'Teacher' },\n",
      "  Person {\n",
      "    name: 'Elijah ',\n",
      "    Grad: 2024,\n",
      "    residence: 'San Diego',\n",
      "    role: 'Student' },\n",
      "  Person {\n",
      "    name: 'Josh',\n",
      "    Grad: 2024,\n",
      "    residence: 'San Diego',\n",
      "    role: 'Student' },\n",
      "  Person {\n",
      "    name: 'Chris',\n",
      "    Grad: 2024,\n",
      "    residence: 'San Diego',\n",
      "    role: 'Student' },\n",
      "  Person {\n",
      "    name: 'Jeffery',\n",
      "    Grad: 2023,\n",
      "    residence: 'San Diego',\n",
      "    role: 'Student' } ]\n",
      "string ,  Mr. M\n",
      "string ,  {\"name\":\"Mr. M\",\"residence\":\"San Diego\",\"role\":\"Teacher\"}\n",
      "object ,  { name: 'Mr. M', residence: 'San Diego', role: 'Teacher' }\n"
     ]
    }
   ],
   "source": [
    "// define a student Array of Person(s)\n",
    "var students = [ \n",
    "    new Person(\"Elijah \", 2024, \"San Diego\"),\n",
    "    new Person(\"Josh\", 2024, \"San Diego\"),\n",
    "    new Person(\"Chris\", 2024, \"San Diego\"),\n",
    "    new Person(\"Jeffery\", 2023, \"San Diego\")\n",
    "];\n",
    "var teacher = new Person(\"Mr. M\", \"?\", \"San Diego\")\n",
    "\n",
    "// define a classroom and build Classroom objects and json\n",
    "function Classroom(teacher, students){ // 1 teacher, many student\n",
    "    // start Classroom with Teacher\n",
    "    teacher.setRole(\"Teacher\");\n",
    "    this.teacher = teacher;\n",
    "    this.classroom = [teacher];\n",
    "    // add each Student to Classroom\n",
    "    this.students = students;\n",
    "    this.students.forEach(student => { student.setRole(\"Student\"); this.classroom.push(student); });\n",
    "    // build json/string format of Classroom\n",
    "    this.json = [];\n",
    "    this.classroom.forEach(person => this.json.push(person.toJSON()));\n",
    "}\n",
    "\n",
    "// make a CompSci classroom from formerly defined teacher and students\n",
    "compsci = new Classroom(teacher, students);\n",
    "\n",
    "// output of Objects and JSON in CompSci classroom\n",
    "PrintType(compsci.classroom);  // constructed classroom object\n",
    "PrintType(compsci.classroom[0].name);  // abstract 1st objects name\n",
    "PrintType(compsci.json[0]);  // show json conversion of 1st object to string\n",
    "PrintType(JSON.parse(compsci.json[0]));  // show JSON.parse inverse of JSON.stringify"
   ]
  },
  {
   "cell_type": "code",
   "execution_count": 6,
   "metadata": {},
   "outputs": [
    {
     "data": {
      "text/html": [
       "<div style='display:inline-block;border: 2px solid grey;box-shadow: 0.8em 0.4em 0.4em grey;'><table><tr><th><mark>Name</mark></th><th><mark>Grad</mark></th><th><mark>Residence</mark></th><th><mark>Role</mark></th></tr><tr><td>Mr. M</td><td>?</td><td>San Diego</td><td>Teacher</td><tr><tr><td>Elijah </td><td>2024</td><td>San Diego</td><td>Student</td><tr><tr><td>Josh</td><td>2024</td><td>San Diego</td><td>Student</td><tr><tr><td>Chris</td><td>2024</td><td>San Diego</td><td>Student</td><tr><tr><td>Jeffery</td><td>2023</td><td>San Diego</td><td>Student</td><tr></table></div>"
      ]
     },
     "execution_count": 6,
     "metadata": {},
     "output_type": "execute_result"
    }
   ],
   "source": [
    "// define an HTML conversion \"method\" associated with Classroom\n",
    "Classroom.prototype._toHtml = function() {\n",
    "    // HTML Style is build using inline structure\n",
    "    var style = (\n",
    "      \"display:inline-block;\" +\n",
    "      \"border: 2px solid grey;\" +\n",
    "      \"box-shadow: 0.8em 0.4em 0.4em grey;\"\n",
    "    );\n",
    "  \n",
    "    // HTML Body of Table is build as a series of concatenations (+=)\n",
    "    var body = \"\";\n",
    "    // Heading for Array Columns\n",
    "    body += \"<tr>\";\n",
    "    body += \"<th><mark>\" + \"Name\" + \"</mark></th>\";\n",
    "    body += \"<th><mark>\" + \"Grad\" + \"</mark></th>\";\n",
    "    body += \"<th><mark>\" + \"Residence\" + \"</mark></th>\";\n",
    "    body += \"<th><mark>\" + \"Role\" + \"</mark></th>\";\n",
    "    body += \"</tr>\";\n",
    "    // Data of Array, iterate through each row of compsci.classroom \n",
    "    for (var row of compsci.classroom) {\n",
    "      // tr for each row, a new line\n",
    "      body += \"<tr>\";\n",
    "      // td for each column of data\n",
    "      body += \"<td>\" + row.name + \"</td>\";\n",
    "      body += \"<td>\" + row.Grad + \"</td>\";\n",
    "      body += \"<td>\" + row.residence + \"</td>\";\n",
    "      body += \"<td>\" + row.role + \"</td>\";\n",
    "      // tr to end line\n",
    "      body += \"<tr>\";\n",
    "    }\n",
    "  \n",
    "     // Build and HTML fragment of div, table, table body\n",
    "    return (\n",
    "      \"<div style='\" + style + \"'>\" +\n",
    "        \"<table>\" +\n",
    "          body +\n",
    "        \"</table>\" +\n",
    "      \"</div>\"\n",
    "    );\n",
    "  \n",
    "  };\n",
    "  \n",
    "  // IJavaScript HTML processor receive parameter of defined HTML fragment\n",
    "  $$.html(compsci._toHtml());"
   ]
  }
 ],
 "metadata": {
  "kernelspec": {
   "display_name": "JavaScript (Node.js)",
   "language": "javascript",
   "name": "javascript"
  },
  "language_info": {
   "file_extension": ".js",
   "mimetype": "application/javascript",
   "name": "javascript",
   "version": "6.11.2"
  },
  "orig_nbformat": 4
 },
 "nbformat": 4,
 "nbformat_minor": 2
}
