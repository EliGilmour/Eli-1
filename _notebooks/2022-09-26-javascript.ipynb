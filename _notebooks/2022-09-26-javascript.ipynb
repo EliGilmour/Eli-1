{
 "cells": [
  {
   "cell_type": "code",
   "execution_count": null,
   "metadata": {},
   "outputs": [
    {
     "ename": "",
     "evalue": "",
     "output_type": "error",
     "traceback": [
      "\u001b[1;31mFailed to start the Kernel. \n",
      "\u001b[1;31m/home/eli/anaconda3/lib/node_modules/ijavascript/node_modules/node-gyp-build/index.js:60\n",
      "\u001b[1;31m  throw new Error('No native build was found for ' + target + '\\n    loaded from: ' + dir + '\\n')\n",
      "\u001b[1;31m  ^\n",
      "\u001b[1;31m\n",
      "\u001b[1;31mError: No native build was found for platform=linux arch=x64 runtime=electron abi=48 uv=1 libc=glibc node=6.11.2\n",
      "\u001b[1;31m    loaded from: /home/eli/anaconda3/lib/node_modules/ijavascript/node_modules/zeromq\n",
      "\u001b[1;31m\n",
      "\u001b[1;31m    at Function.load.path (/home/eli/anaconda3/lib/node_modules/ijavascript/node_modules/node-gyp-build/index.js:60:9)\n",
      "\u001b[1;31m    at load (/home/eli/anaconda3/lib/node_modules/ijavascript/node_modules/node-gyp-build/index.js:22:30)\n",
      "\u001b[1;31m    at Object.<anonymous> (/home/eli/anaconda3/lib/node_modules/ijavascript/node_modules/zeromq/binding.js:1:105)\n",
      "\u001b[1;31m    at Module._compile (module.js:570:32)\n",
      "\u001b[1;31m    at Object.Module._extensions..js (module.js:579:10)\n",
      "\u001b[1;31m    at Module.load (module.js:487:32)\n",
      "\u001b[1;31m    at tryModuleLoad (module.js:446:12)\n",
      "\u001b[1;31m    at Function.Module._load (module.js:438:3)\n",
      "\u001b[1;31m    at Module.require (module.js:497:17)\n",
      "\u001b[1;31m    at require (internal/module.js:20:19). \n",
      "\u001b[1;31mView Jupyter <a href='command:jupyter.viewOutput'>log</a> for further details."
     ]
    }
   ],
   "source": [
    "console.log(\"whats up everyone\");"
   ]
  },
  {
   "cell_type": "code",
   "execution_count": null,
   "metadata": {},
   "outputs": [
    {
     "ename": "",
     "evalue": "",
     "output_type": "error",
     "traceback": [
      "\u001b[1;31mFailed to start the Kernel. \n",
      "\u001b[1;31m/home/eli/anaconda3/lib/node_modules/ijavascript/node_modules/node-gyp-build/index.js:60\n",
      "\u001b[1;31m  throw new Error('No native build was found for ' + target + '\\n    loaded from: ' + dir + '\\n')\n",
      "\u001b[1;31m  ^\n",
      "\u001b[1;31m\n",
      "\u001b[1;31mError: No native build was found for platform=linux arch=x64 runtime=electron abi=48 uv=1 libc=glibc node=6.11.2\n",
      "\u001b[1;31m    loaded from: /home/eli/anaconda3/lib/node_modules/ijavascript/node_modules/zeromq\n",
      "\u001b[1;31m\n",
      "\u001b[1;31m    at Function.load.path (/home/eli/anaconda3/lib/node_modules/ijavascript/node_modules/node-gyp-build/index.js:60:9)\n",
      "\u001b[1;31m    at load (/home/eli/anaconda3/lib/node_modules/ijavascript/node_modules/node-gyp-build/index.js:22:30)\n",
      "\u001b[1;31m    at Object.<anonymous> (/home/eli/anaconda3/lib/node_modules/ijavascript/node_modules/zeromq/binding.js:1:105)\n",
      "\u001b[1;31m    at Module._compile (module.js:570:32)\n",
      "\u001b[1;31m    at Object.Module._extensions..js (module.js:579:10)\n",
      "\u001b[1;31m    at Module.load (module.js:487:32)\n",
      "\u001b[1;31m    at tryModuleLoad (module.js:446:12)\n",
      "\u001b[1;31m    at Function.Module._load (module.js:438:3)\n",
      "\u001b[1;31m    at Module.require (module.js:497:17)\n",
      "\u001b[1;31m    at require (internal/module.js:20:19). \n",
      "\u001b[1;31mView Jupyter <a href='command:jupyter.viewOutput'>log</a> for further details."
     ]
    }
   ],
   "source": [
    "var msg = \"whats up everyone!\";\n",
    "console.log(msg);"
   ]
  },
  {
   "cell_type": "code",
   "execution_count": null,
   "metadata": {},
   "outputs": [
    {
     "ename": "",
     "evalue": "",
     "output_type": "error",
     "traceback": [
      "\u001b[1;31mFailed to start the Kernel. \n",
      "\u001b[1;31m/home/eli/anaconda3/lib/node_modules/ijavascript/node_modules/node-gyp-build/index.js:60\n",
      "\u001b[1;31m  throw new Error('No native build was found for ' + target + '\\n    loaded from: ' + dir + '\\n')\n",
      "\u001b[1;31m  ^\n",
      "\u001b[1;31m\n",
      "\u001b[1;31mError: No native build was found for platform=linux arch=x64 runtime=electron abi=48 uv=1 libc=glibc node=6.11.2\n",
      "\u001b[1;31m    loaded from: /home/eli/anaconda3/lib/node_modules/ijavascript/node_modules/zeromq\n",
      "\u001b[1;31m\n",
      "\u001b[1;31m    at Function.load.path (/home/eli/anaconda3/lib/node_modules/ijavascript/node_modules/node-gyp-build/index.js:60:9)\n",
      "\u001b[1;31m    at load (/home/eli/anaconda3/lib/node_modules/ijavascript/node_modules/node-gyp-build/index.js:22:30)\n",
      "\u001b[1;31m    at Object.<anonymous> (/home/eli/anaconda3/lib/node_modules/ijavascript/node_modules/zeromq/binding.js:1:105)\n",
      "\u001b[1;31m    at Module._compile (module.js:570:32)\n",
      "\u001b[1;31m    at Object.Module._extensions..js (module.js:579:10)\n",
      "\u001b[1;31m    at Module.load (module.js:487:32)\n",
      "\u001b[1;31m    at tryModuleLoad (module.js:446:12)\n",
      "\u001b[1;31m    at Function.Module._load (module.js:438:3)\n",
      "\u001b[1;31m    at Module.require (module.js:497:17)\n",
      "\u001b[1;31m    at require (internal/module.js:20:19). \n",
      "\u001b[1;31mView Jupyter <a href='command:jupyter.viewOutput'>log</a> for further details."
     ]
    }
   ],
   "source": [
    "function logIt(output) {\n",
    "    console.log(output);\n",
    "}\n",
    "logIt(msg);"
   ]
  }
 ],
 "metadata": {
  "kernelspec": {
   "display_name": "JavaScript (Node.js)",
   "language": "javascript",
   "name": "javascript"
  },
  "language_info": {
   "name": "javascript"
  },
  "orig_nbformat": 4
 },
 "nbformat": 4,
 "nbformat_minor": 2
}
