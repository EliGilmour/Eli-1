{
 "cells": [
  {
   "cell_type": "markdown",
   "metadata": {
    "vscode": {
     "languageId": "shellscript"
    }
   },
   "source": [
    "#Bash Notebook\n",
    "\n",
    "> Using bash kernal to create a jupyter notebook and showing all the key tools installed \n",
    "- toc: true\n",
    "- Badges: true\n",
    "- comments: false\n",
    "- author: Eli gilmour\n",
    "- Categories: [fastpages, juypter]"
   ]
  },
  {
   "cell_type": "code",
   "execution_count": 1,
   "metadata": {
    "vscode": {
     "languageId": "shellscript"
    }
   },
   "outputs": [
    {
     "name": "stdout",
     "output_type": "stream",
     "text": [
      "“”\n"
     ]
    }
   ],
   "source": [
    "# test for a kernel installation\n",
    "test=“python3” # keyword\n",
    "check=`jupyter kernelspec list | grep $test` # run command\n",
    "n=${#check} # determine length\n",
    "if [[ ${n} > 0 ]];  # testt length\n",
    "then # greater than zero\n",
    "    echo “$check”\n",
    "else # less than zero\n",
    "    echo “$check”\n",
    "fi"
   ]
  }
 ],
 "metadata": {
  "kernelspec": {
   "display_name": "Bash",
   "language": "bash",
   "name": "bash"
  },
  "language_info": {
   "codemirror_mode": "shell",
   "file_extension": ".sh",
   "mimetype": "text/x-sh",
   "name": "bash"
  },
  "orig_nbformat": 4
 },
 "nbformat": 4,
 "nbformat_minor": 2
}
