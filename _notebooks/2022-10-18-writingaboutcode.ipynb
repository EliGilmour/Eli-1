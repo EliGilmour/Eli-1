{
 "cells": [
  {
   "cell_type": "markdown",
   "metadata": {},
   "source": [
    "# Javascript code ( explaining )\n",
    "\n",
    "- toc: true\n",
    "- Badges: true\n",
    "- comments: false\n",
    "- author: Eli gilmour\n",
    "- Categories: [fastpages,javascript]"
   ]
  },
  {
   "cell_type": "markdown",
   "metadata": {},
   "source": [
    "This code is creating an HTML table\n",
    "- The code\n",
    "- tr\n",
    "  - creating a row\n",
    "- th\n",
    "  - creating an header\n",
    "- table\n",
    " - creating the shape of the table"
   ]
  },
  {
   "cell_type": "code",
   "execution_count": null,
   "metadata": {},
   "outputs": [],
   "source": [
    "<!-- HTML table fragment for page -->\n",
    "<table>\n",
    "  <thead>\n",
    "  <tr>\n",
    "    <th>Time</th>\n",
    "    <th>All-time Cases</th>\n",
    "    <th>Recorded Deaths</th>\n",
    "    <th>Active Cases</th>\n",
    "  </tr>\n",
    "  </thead>\n",
    "  <tbody>\n",
    "    <td id=\"time\"></td>\n",
    "    <td id=\"total_cases\"></td>\n",
    "    <td id=\"total_deaths\"></td>\n",
    "    <td id=\"active_cases\"></td>\n",
    "  </tbody>\n",
    "</table>\n",
    "\n",
    "<table>\n",
    "  <thead>\n",
    "  <tr>\n",
    "    <th>Country</th>\n",
    "    <th>All-time Cases</th>\n",
    "    <th>Recorded Deaths</th>\n",
    "    <th>Active Cases</th>\n",
    "  </tr>\n",
    "  </thead>\n",
    "  <tbody id=\"result\">\n",
    "    <!-- generated rows -->\n",
    "  </tbody>\n",
    "</table>"
   ]
  }
 ],
 "metadata": {
  "kernelspec": {
   "display_name": "JavaScript (Node.js)",
   "language": "javascript",
   "name": "javascript"
  },
  "language_info": {
   "name": "javascript",
   "version": "3.9.12"
  },
  "orig_nbformat": 4,
  "vscode": {
   "interpreter": {
    "hash": "b21c0b9d110a5a3043a375d760ca16faf426bffca7e8cbf746b0d228ab037b0a"
   }
  }
 },
 "nbformat": 4,
 "nbformat_minor": 2
}
