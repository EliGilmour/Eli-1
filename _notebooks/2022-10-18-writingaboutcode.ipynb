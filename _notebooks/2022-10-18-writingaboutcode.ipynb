{
 "cells": [
  {
   "cell_type": "markdown",
   "metadata": {},
   "source": [
    "# Javascript code ( explaining )\n",
    "\n",
    "- toc: true\n",
    "- Badges: true\n",
    "- comments: false\n",
    "- author: Eli gilmour\n",
    "- Categories: [fastpages,javascript]"
   ]
  },
  {
   "cell_type": "markdown",
   "metadata": {},
   "source": [
    "This code is creating an HTML table\n",
    "- tr\n",
    "  - creating a row\n",
    "- th\n",
    "  - creating an header\n",
    "- table\n",
    " - creating the shape of the table"
   ]
  },
  {
   "cell_type": "code",
   "execution_count": null,
   "metadata": {},
   "outputs": [],
   "source": [
    "<!-- HTML table fragment for page -->\n",
    "<table>\n",
    "  <thead>\n",
    "  <tr>\n",
    "    <th>Time</th>\n",
    "    <th>All-time Cases</th>\n",
    "    <th>Recorded Deaths</th>\n",
    "    <th>Active Cases</th>\n",
    "  </tr>\n",
    "  </thead>\n",
    "  <tbody>\n",
    "    <td id=\"time\"></td>\n",
    "    <td id=\"total_cases\"></td>\n",
    "    <td id=\"total_deaths\"></td>\n",
    "    <td id=\"active_cases\"></td>\n",
    "  </tbody>\n",
    "</table>\n",
    "\n",
    "<table>\n",
    "  <thead>\n",
    "  <tr>\n",
    "    <th>Country</th>\n",
    "    <th>All-time Cases</th>\n",
    "    <th>Recorded Deaths</th>\n",
    "    <th>Active Cases</th>\n",
    "  </tr>\n",
    "  </thead>\n",
    "  <tbody id=\"result\">\n",
    "    <!-- generated rows -->\n",
    "  </tbody>\n",
    "</table>"
   ]
  },
  {
   "cell_type": "markdown",
   "metadata": {},
   "source": [
    "- This code block is how it fetches the data for the covid cases from the api which is being taken from the backend.\n",
    "- The URl is where you access the api to use the data collected."
   ]
  },
  {
   "cell_type": "code",
   "execution_count": null,
   "metadata": {},
   "outputs": [],
   "source": [
    "<!-- Script is layed out in a sequence (no function) and will execute when page is loaded -->\n",
    "<script>\n",
    "  // prepare HTML result container for new output\n",
    "  const resultContainer = document.getElementById(\"result\");\n",
    "\n",
    "  // prepare fetch options\n",
    "  const url = \"https://flask.nighthawkcodingsociety.com/api/covid/\";\n",
    "  const headers = {\n",
    "    method: 'GET', // *GET, POST, PUT, DELETE, etc.\n",
    "    mode: 'cors', // no-cors, *cors, same-origin\n",
    "    cache: 'default', // *default, no-cache, reload, force-cache, only-if-cached\n",
    "    credentials: 'omit', // include, *same-origin, omit\n",
    "    headers: {\n",
    "      'Content-Type': 'application/json'\n",
    "      // 'Content-Type': 'application/x-www-form-urlencoded',\n",
    "    },\n",
    "  };"
   ]
  },
  {
   "cell_type": "markdown",
   "metadata": {},
   "source": [
    "- The code block is telling us how we get the data of the covid cases and then formatting it in a row and column. \n",
    "- It formats the countries name, cases, deaths, active cases in a row using the api."
   ]
  },
  {
   "cell_type": "code",
   "execution_count": null,
   "metadata": {},
   "outputs": [],
   "source": [
    " // fetch the API\n",
    " fetch(url, headers)\n",
    " // response is a RESTful \"promise\" on any successful fetch\n",
    " .then(response => {\n",
    "   // check for response errors\n",
    "   if (response.status !== 200) {\n",
    "       const errorMsg = 'Database response error: ' + response.status;\n",
    "       console.log(errorMsg);\n",
    "       const tr = document.createElement(\"tr\");\n",
    "       const td = document.createElement(\"td\");\n",
    "       td.innerHTML = errorMsg;\n",
    "       tr.appendChild(td);\n",
    "       resultContainer.appendChild(tr);\n",
    "       return;\n",
    "   }\n",
    "   // valid response will have json data\n",
    "   response.json().then(data => {\n",
    "       console.log(data);\n",
    "       console.log(data.world_total)\n",
    "\n",
    "       // World Data\n",
    "       document.getElementById(\"time\").innerHTML = data.world_total.statistic_taken_at;\n",
    "       document.getElementById(\"total_cases\").innerHTML = data.world_total.total_cases;\n",
    "       document.getElementById(\"total_deaths\").innerHTML = data.world_total.total_deaths;\n",
    "       document.getElementById(\"active_cases\").innerHTML = data.world_total.active_cases;\n",
    "\n",
    "       // Country data\n",
    "       for (const row of data.countries_stat) {\n",
    "         console.log(row);\n",
    "\n",
    "         // tr for each row\n",
    "         const tr = document.createElement(\"tr\");\n",
    "         // td for each column\n",
    "         const name = document.createElement(\"td\");\n",
    "         const cases = document.createElement(\"td\");\n",
    "         const deaths = document.createElement(\"td\");\n",
    "         const active = document.createElement(\"td\");\n",
    "\n",
    "         // data is specific to the API\n",
    "         name.innerHTML = row.country_name;\n",
    "         cases.innerHTML = row.cases; \n",
    "         deaths.innerHTML = row.deaths; \n",
    "         active.innerHTML = row.active_cases; \n",
    "\n",
    "         // this builds td's into tr\n",
    "         tr.appendChild(name);\n",
    "         tr.appendChild(cases);\n",
    "         tr.appendChild(deaths);\n",
    "         tr.appendChild(active);\n",
    "\n",
    "         // add HTML to container\n",
    "         resultContainer.appendChild(tr);\n",
    "       }\n",
    "   })\n",
    "})"
   ]
  },
  {
   "cell_type": "markdown",
   "metadata": {},
   "source": [
    "- The code block below shows how the code catches fetch errors when the server is blocked.\n",
    "- So if tr or td has an error, the code will detect the error."
   ]
  },
  {
   "cell_type": "code",
   "execution_count": null,
   "metadata": {},
   "outputs": [],
   "source": [
    "// catch fetch errors (ie ACCESS to server blocked)\n",
    ".catch(err => {\n",
    "    console.error(err);\n",
    "    const tr = document.createElement(\"tr\");\n",
    "    const td = document.createElement(\"td\");\n",
    "    td.innerHTML = err;\n",
    "    tr.appendChild(td);\n",
    "    resultContainer.appendChild(tr);\n",
    "  });\n",
    "</script>"
   ]
  }
 ],
 "metadata": {
  "kernelspec": {
   "display_name": "JavaScript (Node.js)",
   "language": "javascript",
   "name": "javascript"
  },
  "language_info": {
   "file_extension": ".js",
   "mimetype": "application/javascript",
   "name": "javascript",
   "version": "6.11.2"
  },
  "orig_nbformat": 4,
  "vscode": {
   "interpreter": {
    "hash": "b21c0b9d110a5a3043a375d760ca16faf426bffca7e8cbf746b0d228ab037b0a"
   }
  }
 },
 "nbformat": 4,
 "nbformat_minor": 2
}
