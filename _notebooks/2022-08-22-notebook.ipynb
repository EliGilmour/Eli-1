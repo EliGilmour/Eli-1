{
 "cells": [
  {
   "cell_type": "markdown",
   "metadata": {},
   "source": [
    "# First Notebook\n",
    "\n",
    "> This is my first notebook\n",
    "\n",
    "\n",
    "- toc: true\n",
    "- Badges: true\n",
    "- comments: True\n",
    "- author: Eli gilmour\n",
    "- Caregories: [fastpages, juypter]"
   ]
  }
 ],
 "metadata": {
  "language_info": {
   "name": "python"
  },
  "orig_nbformat": 4
 },
 "nbformat": 4,
 "nbformat_minor": 2
}
