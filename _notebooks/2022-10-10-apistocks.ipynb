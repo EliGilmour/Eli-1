{
 "cells": [
  {
   "cell_type": "markdown",
   "metadata": {},
   "source": [
    "# API Stocks\n",
    "\n",
    "- toc: true\n",
    "- Badges: true\n",
    "- comments: false\n",
    "- author: Eli gilmour\n",
    "- Categories: [fastpages,python]"
   ]
  },
  {
   "cell_type": "code",
   "execution_count": 2,
   "metadata": {},
   "outputs": [],
   "source": [
    "from polygon import RESTClient\n",
    "from typing import cast\n",
    "from urllib3 import HTTPResponse\n",
    "\n",
    "# API key for the stocks\n",
    "\n",
    "client = RESTClient(\"w4oXBFSyC3bTkpJeVwSnKt8iuwBgMeMy\") # api key in quotes"
   ]
  },
  {
   "cell_type": "code",
   "execution_count": 1,
   "metadata": {},
   "outputs": [
    {
     "name": "stdout",
     "output_type": "stream",
     "text": [
      "[Agg(open=174.57, high=178.49, low=174.44, close=178.44, volume=76545983.0, vwap=177.4855, timestamp=1649044800000, transactions=630374, otc=None)]\n"
     ]
    }
   ],
   "source": [
    "from polygon import RESTClient\n",
    "\n",
    "client = RESTClient(\"w4oXBFSyC3bTkpJeVwSnKt8iuwBgMeMy\") # api_key is used\n",
    "\n",
    "aggs = client.get_aggs(\"AAPL\", 1, \"day\", \"2022-04-04\", \"2022-04-04\")\n",
    "print(aggs)"
   ]
  }
 ],
 "metadata": {
  "kernelspec": {
   "display_name": "Python 3.9.12 ('base')",
   "language": "python",
   "name": "python3"
  },
  "language_info": {
   "codemirror_mode": {
    "name": "ipython",
    "version": 3
   },
   "file_extension": ".py",
   "mimetype": "text/x-python",
   "name": "python",
   "nbconvert_exporter": "python",
   "pygments_lexer": "ipython3",
   "version": "3.9.12"
  },
  "orig_nbformat": 4,
  "vscode": {
   "interpreter": {
    "hash": "b21c0b9d110a5a3043a375d760ca16faf426bffca7e8cbf746b0d228ab037b0a"
   }
  }
 },
 "nbformat": 4,
 "nbformat_minor": 2
}
