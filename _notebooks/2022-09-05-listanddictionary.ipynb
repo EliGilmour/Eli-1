{
 "cells": [
  {
   "cell_type": "markdown",
   "metadata": {},
   "source": [
    "# Python List Dictionaries Iteration\n",
    "\n",
    "This notebook shows how I use lists with python\n",
    "\n",
    "- toc: False\n",
    "- Badges: true\n",
    "- comments: true\n",
    "- author: Eli gilmour\n",
    "- Categories: [fastpages, juypter]"
   ]
  },
  {
   "cell_type": "markdown",
   "metadata": {},
   "source": [
    "# InfoDb"
   ]
  },
  {
   "cell_type": "code",
   "execution_count": 1,
   "metadata": {},
   "outputs": [
    {
     "name": "stdout",
     "output_type": "stream",
     "text": [
      "[{'FirstName': 'elijah', 'MiddleName': 'david', 'LastName': 'gilmour', 'DOB': 'august 8', 'Residence': 'San Diego', 'Owns_Cars': '2013 nissan altima', 'Show': 'Flash', 'Game': 'warzone'}, {'FirstName': 'Christopher', 'MiddleName': 'stewart', 'LastName': 'albertson', 'DOB': 'january 20', 'Residence': 'San Diego', 'Owns_Cars': '2022 toyota Tacoma', 'Show': 'Breaking bad', 'Game': 'GTA'}]\n"
     ]
    }
   ],
   "source": [
    "InfoDb = []\n",
    "\n",
    "# To add data to InfoDB we must use the .append function\n",
    "# A dictionary is made with curly braces {}\n",
    "InfoDb.append({\n",
    "    \"FirstName\": \"elijah\",\n",
    "    \"MiddleName\": \"david\",\n",
    "    \"LastName\": \"gilmour\",\n",
    "    \"DOB\": \"august 8\",\n",
    "    \"Residence\": \"San Diego\",\n",
    "    \"Owns_Cars\": \"2013 nissan altima\",\n",
    "    \"Show\": \"Flash\",\n",
    "    \"Game\": \"warzone\"\n",
    "})\n",
    "\n",
    "\n",
    "InfoDb.append({\n",
    "    \"FirstName\": \"Christopher\",\n",
    "    \"MiddleName\": \"stewart\",\n",
    "    \"LastName\": \"albertson\",\n",
    "    \"DOB\": \"january 20\",\n",
    "    \"Residence\": \"San Diego\",\n",
    "    \"Owns_Cars\": \"2022 toyota Tacoma\",\n",
    "    \"Show\": \"Breaking bad\",\n",
    "    \"Game\": \"GTA\"\n",
    "})\n",
    "\n",
    "# Print the data structure\n",
    "print(InfoDb)"
   ]
  },
  {
   "cell_type": "markdown",
   "metadata": {},
   "source": [
    "# Reversed List"
   ]
  },
  {
   "cell_type": "code",
   "execution_count": 2,
   "metadata": {},
   "outputs": [
    {
     "name": "stdout",
     "output_type": "stream",
     "text": [
      "Regular List: ['1', '2', '3', '4', '5', '6']\n",
      "Reversed List: ['6', '5', '4', '3', '2', '1']\n"
     ]
    }
   ],
   "source": [
    "list = [\"1\", \"2\", \"3\", \"4\", \"5\", \"6\"]\n",
    "print('Regular List:', list)\n",
    "list.reverse()\n",
    "print('Reversed List:', list)"
   ]
  },
  {
   "cell_type": "markdown",
   "metadata": {},
   "source": [
    "# Random List"
   ]
  },
  {
   "cell_type": "code",
   "execution_count": 3,
   "metadata": {},
   "outputs": [
    {
     "name": "stdout",
     "output_type": "stream",
     "text": [
      "Regular List: ['6', '5', '4', '3', '2', '1']\n",
      "Random List: ['1', '2', '3', '6', '5', '4']\n"
     ]
    }
   ],
   "source": [
    "import random\n",
    "\n",
    "print('Regular List:', list)\n",
    "random.shuffle(list)\n",
    "print('Random List:', list)"
   ]
  },
  {
   "cell_type": "markdown",
   "metadata": {},
   "source": [
    "# Loop"
   ]
  },
  {
   "cell_type": "code",
   "execution_count": 4,
   "metadata": {},
   "outputs": [
    {
     "name": "stdout",
     "output_type": "stream",
     "text": [
      "For loop output\n",
      "\n",
      "elijah david gilmour\n",
      "\t Residence: San Diego\n",
      "\t Birth Day: august 8\n",
      "\t Cars:  2013 nissan altima\n",
      "\t Favorite show:  Flash\n",
      "\t Favorite game:  warzone\n",
      "Christopher stewart albertson\n",
      "\t Residence: San Diego\n",
      "\t Birth Day: january 20\n",
      "\t Cars:  2022 toyota Tacoma\n",
      "\t Favorite show:  Breaking bad\n",
      "\t Favorite game:  GTA\n"
     ]
    }
   ],
   "source": [
    "def print_data(d_rec): # defines function that prints data\n",
    "    print(d_rec[\"FirstName\"], d_rec[\"MiddleName\"], d_rec[\"LastName\"])  # prints data from the dictionary\n",
    "    print(\"\\t\", \"Residence:\", d_rec[\"Residence\"]) \n",
    "    print(\"\\t\", \"Birth Day:\", d_rec[\"DOB\"])\n",
    "    print(\"\\t\", \"Cars: \", d_rec[\"Owns_Cars\"])  # end=\"\" make sure no return occurs\n",
    "    print(\"\\t\", \"Favorite show: \", d_rec[\"Show\"])\n",
    "    print(\"\\t\", \"Favorite game: \", d_rec[\"Game\"])\n",
    "\n",
    "\n",
    "# for loop iterates on length of InfoDb\n",
    "def for_loop():\n",
    "    print(\"For loop output\\n\")\n",
    "    for record in InfoDb:\n",
    "        print_data(record)\n",
    "\n",
    "for_loop()"
   ]
  },
  {
   "cell_type": "markdown",
   "metadata": {},
   "source": [
    "# While Loop"
   ]
  },
  {
   "cell_type": "code",
   "execution_count": 5,
   "metadata": {},
   "outputs": [
    {
     "name": "stdout",
     "output_type": "stream",
     "text": [
      "While loop output\n",
      "\n",
      "elijah david gilmour\n",
      "\t Residence: San Diego\n",
      "\t Birth Day: august 8\n",
      "\t Cars:  2013 nissan altima\n",
      "\t Favorite show:  Flash\n",
      "\t Favorite game:  warzone\n",
      "Christopher stewart albertson\n",
      "\t Residence: San Diego\n",
      "\t Birth Day: january 20\n",
      "\t Cars:  2022 toyota Tacoma\n",
      "\t Favorite show:  Breaking bad\n",
      "\t Favorite game:  GTA\n"
     ]
    }
   ],
   "source": [
    "def while_loop():\n",
    "    print(\"While loop output\\n\")\n",
    "    i = 0\n",
    "    while i < len(InfoDb):\n",
    "        record = InfoDb[i]\n",
    "        print_data(record)\n",
    "        i += 1\n",
    "    return\n",
    "\n",
    "while_loop()"
   ]
  },
  {
   "cell_type": "markdown",
   "metadata": {},
   "source": [
    "# Recersive Loop"
   ]
  },
  {
   "cell_type": "code",
   "execution_count": 6,
   "metadata": {},
   "outputs": [
    {
     "name": "stdout",
     "output_type": "stream",
     "text": [
      "Recursive loop output\n",
      "\n",
      "elijah david gilmour\n",
      "\t Residence: San Diego\n",
      "\t Birth Day: august 8\n",
      "\t Cars:  2013 nissan altima\n",
      "\t Favorite show:  Flash\n",
      "\t Favorite game:  warzone\n",
      "Christopher stewart albertson\n",
      "\t Residence: San Diego\n",
      "\t Birth Day: january 20\n",
      "\t Cars:  2022 toyota Tacoma\n",
      "\t Favorite show:  Breaking bad\n",
      "\t Favorite game:  GTA\n"
     ]
    }
   ],
   "source": [
    "def recursive_loop(i):\n",
    "    if i < len(InfoDb):\n",
    "        record = InfoDb[i]\n",
    "        print_data(record)\n",
    "        recursive_loop(i + 1)\n",
    "    return\n",
    "    \n",
    "print(\"Recursive loop output\\n\")\n",
    "recursive_loop(0)"
   ]
  },
  {
   "cell_type": "markdown",
   "metadata": {},
   "source": [
    "# Quiz using dictionaries lists"
   ]
  },
  {
   "cell_type": "code",
   "execution_count": 1,
   "metadata": {},
   "outputs": [
    {
     "name": "stdout",
     "output_type": "stream",
     "text": [
      "Take this quiz about football rules.\n",
      "How mnay yards is a football field\n",
      "120 yards\n",
      "Correct, you have  1  points!\n",
      "How many yards is the endzone\n",
      "10 yards\n",
      "Correct, you have  2  points!\n",
      "How many yards is a first down penalty\n",
      "5 yards\n",
      "Incorrect, the answer was;  10 yards\n",
      "how many players is on the offense\n",
      "11\n",
      "Incorrect, the answer was;  11 players\n",
      "You have finished the quiz with  2  out of  4  points!\n"
     ]
    }
   ],
   "source": [
    "question = [] # creates empty list\n",
    "\n",
    "question.append({ # adds dictionary with question and answer to list using .append\n",
    "    \"Question\": \"How mnay yards is a football field\",\n",
    "    \"Answer\": \"120 yards\",\n",
    "})\n",
    "question.append({\n",
    "    \"Question\": \"How many yards is the endzone\",\n",
    "    \"Answer\": \"10 yards\",\n",
    "})\n",
    "question.append({\n",
    "    \"Question\": \"How many yards is a first down penalty\",\n",
    "    \"Answer\": \"10 yards\",\n",
    "})\n",
    "question.append({\n",
    "    \"Question\": \"how many players is on the offense\",\n",
    "    \"Answer\": \"11 players\",\n",
    "})\n",
    "\n",
    "points = 0\n",
    "print(\"Take this quiz about football rules.\")\n",
    "\n",
    "for i in question: # for loop repeats every time an answer is given\n",
    "    print(i[\"Question\"])\n",
    "    response = input(i[\"Question\"])\n",
    "    print(response)\n",
    "    \n",
    "    if response == i[\"Answer\"]:\n",
    "        points += 1\n",
    "        print(\"Correct, you have \", points, \" points!\")\n",
    "    else:\n",
    "        print(\"Incorrect, the answer was; \", i[\"Answer\"])\n",
    "\n",
    "print(\"You have finished the quiz with \", points, \" out of \", len(question), \" points!\")"
   ]
  }
 ],
 "metadata": {
  "kernelspec": {
   "display_name": "Python 3.8.10 64-bit",
   "language": "python",
   "name": "python3"
  },
  "language_info": {
   "codemirror_mode": {
    "name": "ipython",
    "version": 3
   },
   "file_extension": ".py",
   "mimetype": "text/x-python",
   "name": "python",
   "nbconvert_exporter": "python",
   "pygments_lexer": "ipython3",
   "version": "3.8.10"
  },
  "orig_nbformat": 4,
  "vscode": {
   "interpreter": {
    "hash": "916dbcbb3f70747c44a77c7bcd40155683ae19c65e1c03b4aa3499c5328201f1"
   }
  }
 },
 "nbformat": 4,
 "nbformat_minor": 2
}
