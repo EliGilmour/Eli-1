{
 "cells": [
  {
   "cell_type": "markdown",
   "metadata": {},
   "source": [
    "# HTML Fragments (changin theme)\n",
    "\n",
    "Fastpages basic theme  is minima but there are other themes you can choose from and I used time machine.\n",
    "\n",
    "- toc: true\n",
    "- Badges: true\n",
    "- comments: false\n",
    "- author: Eli gilmour\n",
    "- Categories: [fastpages, python]"
   ]
  },
  {
   "cell_type": "markdown",
   "metadata": {},
   "source": [
    "Here is the result"
   ]
  },
  {
   "cell_type": "markdown",
   "metadata": {},
   "source": [
    "![time machine theme]({{site.baseurl}}/images/time machine screenshot.png)"
   ]
  },
  {
   "cell_type": "markdown",
   "metadata": {},
   "source": [
    "# Postitve effects\n",
    "\n",
    "the positive effects of changing the theme was that I learned that fastpages has different versions of how you can create and make your website look."
   ]
  },
  {
   "cell_type": "markdown",
   "metadata": {},
   "source": [
    "# negative effects \n",
    "\n",
    "the negative effects of changing the theme was that It switched everything around and pushed it all the way to the left side of the screen and you can't use the top tabs that include about me, search, vocab, the table, and catergories which makes the theme not beneficial."
   ]
  }
 ],
 "metadata": {
  "kernelspec": {
   "display_name": "Python 3.8.10 64-bit",
   "language": "python",
   "name": "python3"
  },
  "language_info": {
   "name": "python",
   "version": "3.8.10"
  },
  "orig_nbformat": 4,
  "vscode": {
   "interpreter": {
    "hash": "916dbcbb3f70747c44a77c7bcd40155683ae19c65e1c03b4aa3499c5328201f1"
   }
  }
 },
 "nbformat": 4,
 "nbformat_minor": 2
}
