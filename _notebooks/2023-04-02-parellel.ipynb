{
 "cells": [
  {
   "attachments": {},
   "cell_type": "markdown",
   "metadata": {},
   "source": [
    "# Parallel Computing Hacks\n",
    "- toc: true\n",
    "- categories: [Javascript,markdown]\n",
    "- type: pbl\n",
    "- week: 28"
   ]
  },
  {
   "attachments": {},
   "cell_type": "markdown",
   "metadata": {},
   "source": [
    "# Example 1\n",
    "\n",
    "When two of the processes are running in parallel in this example it will take 50 seconds to run. This is because Y and Z are going to run in parallel. Both the processors would be running at the same time so the one that takes forty second will stop and the whole entire process will stop after 50 seconds\n",
    "\n",
    "# Example 2 \n",
    "\n",
    "If we run them in parallel they will run at the same time so the longer process will be the execution time which will be 45 seconds.  70-25= 45 seconds. Running them one after another is adding them together which would be 25+45 which is 70."
   ]
  },
  {
   "cell_type": "markdown",
   "metadata": {},
   "source": [
    "# Example 1\n",
    "\n",
    "    - When two of the processes are running in parallel in this example it will take 50 seconds to run. This is because Y and Z are going to run in parallel. Both the processors would be running at the same time so the one that takes forty second will stop and the whole entire process will stop after 50 seconds\n",
    "\n",
    "# Example 2 \n",
    "\n",
    "    - If we run them in parallel they will run at the same time so the longer process will be the execution time which will be 45 seconds.  70-25= 45 seconds. Running them one after another is adding them together which would be 25+45 which is 70."
   ]
  },
  {
   "attachments": {},
   "cell_type": "markdown",
   "metadata": {},
   "source": [
    "- Here is my List about foods that start with the letter H"
   ]
  },
  {
   "cell_type": "code",
   "execution_count": 4,
   "metadata": {},
   "outputs": [
    {
     "name": "stdout",
     "output_type": "stream",
     "text": [
      "['Hamburger', 'Honeydew', 'ham', 'Heirloom Tomato', 'Hot Dog']\n"
     ]
    }
   ],
   "source": [
    "foods = [\"apple\", \"banana\", \"hamburger\", \"cookie\", \"honeydew\", \"corn\", \"ham\", \"heirloom tomato\", \"hot dog\"]\n",
    "\n",
    "h_foods = [food.title() if len(food) > 5 else food for food in foods if food.lower().startswith(\"h\")]\n",
    "\n",
    "print(h_foods)\n"
   ]
  }
 ],
 "metadata": {
  "kernelspec": {
   "display_name": "base",
   "language": "python",
   "name": "python3"
  },
  "language_info": {
   "codemirror_mode": {
    "name": "ipython",
    "version": 3
   },
   "file_extension": ".py",
   "mimetype": "text/x-python",
   "name": "python",
   "nbconvert_exporter": "python",
   "pygments_lexer": "ipython3",
   "version": "3.9.12"
  },
  "orig_nbformat": 4
 },
 "nbformat": 4,
 "nbformat_minor": 2
}
